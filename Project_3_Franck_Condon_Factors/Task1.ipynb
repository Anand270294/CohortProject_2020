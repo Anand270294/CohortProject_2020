{
 "cells": [
  {
   "cell_type": "markdown",
   "metadata": {},
   "source": [
    "# Task 1\n",
    "\n",
    "A template code for calculating FCFs for $H_2$ - $H_2^+$ using the harmonic oscillator approximation. \n",
    "\n",
    "Imports:"
   ]
  },
  {
   "cell_type": "code",
   "execution_count": 1,
   "metadata": {},
   "outputs": [],
   "source": [
    "import numpy as np\n",
    "import matplotlib.pyplot as plt\n",
    "\n",
    "from FCF_helper import FCFSpec"
   ]
  },
  {
   "cell_type": "markdown",
   "metadata": {},
   "source": [
    "Initialize the `FCFSpec` object. Modify `n_0_max` and `n_p_max` (the maximum vibrational states of $H_2$ and $H_2^+$ that we'll look at calculating FCFs for) in order to get 10 transitions starting from n_0=0."
   ]
  },
  {
   "cell_type": "code",
   "execution_count": 2,
   "metadata": {},
   "outputs": [],
   "source": [
    "n_0_max = 0\n",
    "n_p_max = 10\n",
    "\n",
    "fcfspec = FCFSpec(n_0_max, n_p_max)"
   ]
  },
  {
   "cell_type": "markdown",
   "metadata": {},
   "source": [
    "Calculate all the FCFs and print the results."
   ]
  },
  {
   "cell_type": "code",
   "execution_count": 3,
   "metadata": {},
   "outputs": [
    {
     "name": "stdout",
     "output_type": "stream",
     "text": [
      "n_0\t\t n_p\t\t FCF\t\t Ep-E0\n",
      "[[0.00000000e+00 0.00000000e+00 1.00000000e+00 1.52970166e+01]\n",
      " [0.00000000e+00 1.00000000e+00 2.95139079e+00 1.55849075e+01]\n",
      " [0.00000000e+00 2.00000000e+00 3.49048846e+00 1.58727983e+01]\n",
      " [0.00000000e+00 3.00000000e+00 2.01446220e+00 1.61606891e+01]\n",
      " [0.00000000e+00 4.00000000e+00 5.16711333e-01 1.64485800e+01]\n",
      " [0.00000000e+00 5.00000000e+00 2.55047939e-02 1.67364708e+01]\n",
      " [0.00000000e+00 6.00000000e+00 8.26500159e-03 1.70243617e+01]\n",
      " [0.00000000e+00 7.00000000e+00 1.09734335e-02 1.73122525e+01]\n",
      " [0.00000000e+00 8.00000000e+00 1.39346082e-03 1.76001434e+01]\n",
      " [0.00000000e+00 9.00000000e+00 8.39894919e-05 1.78880342e+01]\n",
      " [0.00000000e+00 1.00000000e+01 2.53763959e-04 1.81759251e+01]]\n"
     ]
    }
   ],
   "source": [
    "spectrum = fcfspec.spectrum_analysis()\n",
    "print(\"n_0\\t\\t n_p\\t\\t FCF\\t\\t Ep-E0\")\n",
    "print(spectrum)"
   ]
  },
  {
   "cell_type": "markdown",
   "metadata": {},
   "source": [
    "Now, let us plot Franck-Condon factors against the transition energy. Note, that to make the plot similar to the plot of the experimental data in the specification of the task we plot the energy axis is reverse (decreasing) order."
   ]
  },
  {
   "cell_type": "code",
   "execution_count": 16,
   "metadata": {},
   "outputs": [
    {
     "data": {
      "image/png": "[encoded data removed]",
      "text/plain": [
       "<Figure size 432x288 with 1 Axes>"
      ]
     },
     "metadata": {
      "needs_background": "light"
     },
     "output_type": "display_data"
    }
   ],
   "source": [
    "plt.scatter(spectrum[:, 3], spectrum[:, 2])\n",
    "plt.xlim(18, 15)\n",
    "plt.title('Vibronic spectrum')\n",
    "plt.xlabel('Ep-E0 (ev)')\n",
    "plt.ylabel('FCF')\n",
    "plt.show()"
   ]
  },
  {
   "cell_type": "code",
   "execution_count": 20,
   "metadata": {},
   "outputs": [
    {
     "data": {
      "image/png": "[encoded data removed]",
      "text/plain": [
       "<Figure size 432x288 with 1 Axes>"
      ]
     },
     "metadata": {
      "needs_background": "light"
     },
     "output_type": "display_data"
    }
   ],
   "source": [
    "plt.vlines(spectrum[:, 3], 0, spectrum[:, 2])\n",
    "plt.xlim(18, 15)\n",
    "plt.title('Vibronic spectrum')\n",
    "plt.xlabel('Ep-E0 (ev)')\n",
    "plt.ylabel('FCF')\n",
    "plt.show()"
   ]
  },
  {
   "cell_type": "code",
   "execution_count": null,
   "metadata": {},
   "outputs": [],
   "source": []
  },
  {
   "cell_type": "code",
   "execution_count": null,
   "metadata": {},
   "outputs": [],
   "source": []
  }
 ],
 "metadata": {
  "kernelspec": {
   "display_name": "Python 3",
   "language": "python",
   "name": "python3"
  },
  "language_info": {
   "codemirror_mode": {
    "name": "ipython",
    "version": 3
   },
   "file_extension": ".py",
   "mimetype": "text/x-python",
   "name": "python",
   "nbconvert_exporter": "python",
   "pygments_lexer": "ipython3",
   "version": "3.7.4"
  }
 },
 "nbformat": 4,
 "nbformat_minor": 2
}
