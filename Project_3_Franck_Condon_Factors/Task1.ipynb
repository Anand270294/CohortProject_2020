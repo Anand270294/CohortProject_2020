{
 "cells": [
  {
   "cell_type": "markdown",
   "metadata": {},
   "source": [
    "# Task 1\n",
    "\n",
    "A template code for calculating FCFs for $H_2$ - $H_2^+$ using the harmonic oscillator approximation. \n",
    "\n",
    "Imports:"
   ]
  },
  {
   "cell_type": "code",
   "execution_count": 1,
   "metadata": {},
   "outputs": [],
   "source": [
    "import numpy as np\n",
    "import matplotlib.pyplot as plt\n",
    "\n",
    "from FCF_helper import FCFSpec"
   ]
  },
  {
   "cell_type": "markdown",
   "metadata": {},
   "source": [
    "Initialize the `FCFSpec` object. Modify `n_0_max` and `n_p_max` (the maximum vibrational states of $H_2$ and $H_2^+$ that we'll look at calculating FCFs for) in order to get 10 transitions starting from n_0=0."
   ]
  },
  {
   "cell_type": "code",
   "execution_count": 2,
   "metadata": {},
   "outputs": [],
   "source": [
    "n_0_max = 0\n",
    "n_p_max = 10\n",
    "\n",
    "fcfspec = FCFSpec(n_0_max, n_p_max)"
   ]
  },
  {
   "cell_type": "markdown",
   "metadata": {},
   "source": [
    "Calculate all the FCFs and print the results."
   ]
  },
  {
   "cell_type": "code",
   "execution_count": 3,
   "metadata": {},
   "outputs": [
    {
     "name": "stdout",
     "output_type": "stream",
     "text": [
      "n_0\t\t n_p\t\t FCF\t\t Ep-E0\n",
      "[[0.00000000e+00 0.00000000e+00 1.00000000e+00 1.23378957e+05]\n",
      " [0.00000000e+00 1.00000000e+00 2.95139079e+00 1.25700957e+05]\n",
      " [0.00000000e+00 2.00000000e+00 3.49048846e+00 1.28022957e+05]\n",
      " [0.00000000e+00 3.00000000e+00 2.01446220e+00 1.30344957e+05]\n",
      " [0.00000000e+00 4.00000000e+00 5.16711333e-01 1.32666957e+05]\n",
      " [0.00000000e+00 5.00000000e+00 2.55047939e-02 1.34988957e+05]\n",
      " [0.00000000e+00 6.00000000e+00 8.26500159e-03 1.37310957e+05]\n",
      " [0.00000000e+00 7.00000000e+00 1.09734335e-02 1.39632957e+05]\n",
      " [0.00000000e+00 8.00000000e+00 1.39346082e-03 1.41954957e+05]\n",
      " [0.00000000e+00 9.00000000e+00 8.39894919e-05 1.44276957e+05]\n",
      " [0.00000000e+00 1.00000000e+01 2.53763959e-04 1.46598957e+05]]\n"
     ]
    }
   ],
   "source": [
    "spectrum = fcfspec.spectrum_analysis()\n",
    "print(\"n_0\\t\\t n_p\\t\\t FCF\\t\\t Ep-E0\")\n",
    "print(spectrum)"
   ]
  },
  {
   "cell_type": "markdown",
   "metadata": {},
   "source": [
    "Now, let us plot Franck-Condon factors against the transition energy."
   ]
  },
  {
   "cell_type": "code",
   "execution_count": 13,
   "metadata": {},
   "outputs": [
    {
     "data": {
      "image/png": "[encoded data removed]",
      "text/plain": [
       "<Figure size 432x288 with 1 Axes>"
      ]
     },
     "metadata": {
      "needs_background": "light"
     },
     "output_type": "display_data"
    }
   ],
   "source": [
    "x = spectrum[:, 3]\n",
    "y = spectrum[:, 2]\n",
    "plt.scatter(x, y)\n",
    "plt.title('Vibronic spectrum (H2)')\n",
    "plt.xlabel('Ep-E0 (1/cm)')\n",
    "plt.ylabel('FCF')\n",
    "plt.show()"
   ]
  },
  {
   "cell_type": "markdown",
   "metadata": {},
   "source": [
    "To compare the results of our calculation with the experimental results from /citation-here/ it is visually more appealing to convert the energies in our plot to electron volts (since the plot in the cited article is in electron volts) and also, instead of scatter plot it is better to have vertical bars showing the amplitude at each peak. \n",
    "\n",
    "Note, that to make the plot similar to the plot of the experimental data in the specification of the task we plot the energy axis is reverse (decreasing) order.\n",
    "\n",
    "TODO: in addition to vertical bars, it will be nice to have Loretzian smoothing as well."
   ]
  },
  {
   "cell_type": "code",
   "execution_count": 14,
   "metadata": {},
   "outputs": [
    {
     "data": {
      "image/png": "[encoded data removed]",
      "text/plain": [
       "<Figure size 432x288 with 1 Axes>"
      ]
     },
     "metadata": {
      "needs_background": "light"
     },
     "output_type": "display_data"
    }
   ],
   "source": [
    "invcm_to_ev = 0.000123984\n",
    "x_ev = invcm_to_ev * x\n",
    "plt.vlines(x_ev, 0, y)\n",
    "plt.xlim(18, 15)\n",
    "plt.title('Vibronic spectrum (H2)')\n",
    "plt.xlabel('Ep-E0 (ev)')\n",
    "plt.ylabel('FCF')\n",
    "plt.show()"
   ]
  },
  {
   "cell_type": "markdown",
   "metadata": {},
   "source": [
    "And here is the plot from the experimental data\n",
    "\n",
    "<img src=\"Berkowitz.png\" align=\"left\" style=\"width: 400px;\"/>"
   ]
  },
  {
   "cell_type": "markdown",
   "metadata": {},
   "source": [
    "As we can see we have correctly predicted the positions of peaks, and the relative intensities of the predicted peaks is in line with the experimental data. E.g. the strongest peak is the third one counting from right (with energy a bit less than $16 ev$), in both the experimental data and the theoretically calculated one"
   ]
  },
  {
   "cell_type": "code",
   "execution_count": null,
   "metadata": {},
   "outputs": [],
   "source": []
  }
 ],
 "metadata": {
  "kernelspec": {
   "display_name": "Python 3",
   "language": "python",
   "name": "python3"
  },
  "language_info": {
   "codemirror_mode": {
    "name": "ipython",
    "version": 3
   },
   "file_extension": ".py",
   "mimetype": "text/x-python",
   "name": "python",
   "nbconvert_exporter": "python",
   "pygments_lexer": "ipython3",
   "version": "3.7.4"
  }
 },
 "nbformat": 4,
 "nbformat_minor": 2
}
